{
 "cells": [
  {
   "cell_type": "markdown",
   "metadata": {},
   "source": [
    "### Defining all of the constants"
   ]
  },
  {
   "cell_type": "code",
   "execution_count": 1,
   "metadata": {
    "collapsed": true
   },
   "outputs": [],
   "source": [
    "import numpy as np\n",
    "import matplotlib.pyplot as plt\n",
    "%matplotlib inline"
   ]
  },
  {
   "cell_type": "markdown",
   "metadata": {},
   "source": [
    "##### Water (assuming it is the heat transfer fluid in the Internal Holding Tank) "
   ]
  },
  {
   "cell_type": "code",
   "execution_count": 2,
   "metadata": {
    "collapsed": true
   },
   "outputs": [],
   "source": [
    "k_w = 0.67 \n",
    "Cp_w = 4.1843\n",
    "rho_w = 983.2\n",
    "mu_w = 466.5\n",
    "visc_w = mu_w/rho_w"
   ]
  },
  {
   "cell_type": "markdown",
   "metadata": {},
   "source": [
    "##### The constants of the egg"
   ]
  },
  {
   "cell_type": "code",
   "execution_count": 3,
   "metadata": {
    "collapsed": true
   },
   "outputs": [],
   "source": [
    "k_e = 0.45\n",
    "Cp_e = 3.63\n",
    "rho_e = 1027"
   ]
  },
  {
   "cell_type": "markdown",
   "metadata": {},
   "source": [
    "##### Viscosity of egg calculation\n",
    "\n",
    "- Data used for 63 $^o$C treatment for 5min.\n",
    "- Assumed Newtonian Fluid"
   ]
  },
  {
   "cell_type": "code",
   "execution_count": 4,
   "metadata": {
    "collapsed": false
   },
   "outputs": [
    {
     "data": {
      "image/png": "[encoded data removed]",
      "text/plain": [
       "<matplotlib.figure.Figure at 0x23cba04e748>"
      ]
     },
     "metadata": {},
     "output_type": "display_data"
    }
   ],
   "source": [
    "def data_fun(x):\n",
    "    a = 4.067\n",
    "    b = 0.0041\n",
    "    c = 0\n",
    "    return a + b*x\n",
    "\n",
    "X = np.linspace(400,1000,20)\n",
    "tau = data_fun(X)\n",
    "plt.plot(X,tau,'o')\n",
    "plt.plot(X,tau,'r')\n",
    "plt.title('Shear stress vs. Shear rate curve')\n",
    "\n",
    "mu_e = 0.0041\n",
    "visc_e = mu_e/rho_e"
   ]
  },
  {
   "cell_type": "markdown",
   "metadata": {},
   "source": [
    "##### Constant parameters of the system"
   ]
  },
  {
   "cell_type": "code",
   "execution_count": 5,
   "metadata": {
    "collapsed": false
   },
   "outputs": [],
   "source": [
    "#Used in both\n",
    "L = 508.97\n",
    "Ts = 60\n",
    "Tinf = 65\n",
    "Tf = (Ts+Tinf)/2\n",
    "d = 95.5\n",
    "D = d/1000\n",
    "As = np.pi*D*L\n",
    "Ac = np.pi/4*D**2\n",
    "Te = 59\n",
    "Ti = 0\n",
    "\n",
    "# For the external calculation\n",
    "Beta = 0.000522\n",
    "g = 9.807\n",
    "Pr_w = mu_w*Cp_w/k_w\n",
    "\n",
    "#For the internal calculation\n",
    "mass_flowrate = 35000/3600\n",
    "V = mass_flowrate/rho_e\n",
    "Pr_e = mu_e*Cp_e/k_e"
   ]
  },
  {
   "cell_type": "markdown",
   "metadata": {},
   "source": [
    "##### Calculating the required heat to be added"
   ]
  },
  {
   "cell_type": "code",
   "execution_count": 6,
   "metadata": {
    "collapsed": false
   },
   "outputs": [
    {
     "name": "stdout",
     "output_type": "stream",
     "text": [
      "The heat to added =  2082.208333333333  W\n"
     ]
    }
   ],
   "source": [
    "Q = mass_flowrate * Cp_e * (Te - Ti)\n",
    "print(\"The heat to added = \",Q,\" W\")"
   ]
  },
  {
   "cell_type": "markdown",
   "metadata": {},
   "source": [
    "##### Calculating the External Convective Heat Transfer parameter $h_{ext}$\n",
    "\n",
    "This was done by using Natuaral convection calculations and assuming that heat from the pipes do not influence one anothor"
   ]
  },
  {
   "cell_type": "code",
   "execution_count": 7,
   "metadata": {
    "collapsed": false
   },
   "outputs": [
    {
     "data": {
      "text/plain": [
       "2.61844164692167"
      ]
     },
     "execution_count": 7,
     "metadata": {},
     "output_type": "execute_result"
    }
   ],
   "source": [
    "Ra_w = g*Beta*(Tinf-Ts)*D**3/visc_w**2 * Pr_w\n",
    "Nu_w = (0.6 + (0.387*Ra_w**(1/6))/(1 + (0.559/Pr_w)**(9/16))**8/27)**2\n",
    "h_ext = k_w/D*Nu_w\n",
    "h_ext"
   ]
  },
  {
   "cell_type": "markdown",
   "metadata": {},
   "source": [
    "##### Calculationg the Internal Convective Heat Transfer parameter $h_{int}$\n",
    "\n",
    "This was done by using normal internal forced convection calculations."
   ]
  },
  {
   "cell_type": "code",
   "execution_count": 8,
   "metadata": {
    "collapsed": false
   },
   "outputs": [
    {
     "data": {
      "text/plain": [
       "155.12832947101703"
      ]
     },
     "execution_count": 8,
     "metadata": {},
     "output_type": "execute_result"
    }
   ],
   "source": [
    "Vavg = V/Ac\n",
    "Re_e = Vavg*D/visc_e\n",
    "if Re_e>2000:\n",
    "    Nu_e = 0.023*Re_e**0.8*Pr_e**0.3\n",
    "elif Re_e<2000:\n",
    "    Nu_e = 3.66\n",
    "\n",
    "h_int = Nu_e*k_e/D\n",
    "h_int"
   ]
  },
  {
   "cell_type": "markdown",
   "metadata": {},
   "source": [
    "##### Checking Ts"
   ]
  },
  {
   "cell_type": "code",
   "execution_count": 9,
   "metadata": {
    "collapsed": false
   },
   "outputs": [
    {
     "name": "stdout",
     "output_type": "stream",
     "text": [
      "The surface temp iteration value is:  59.79242118689913  degC : should be 60 degC.\n",
      "The temperature of the egg is:  59.70452143776661  degC\n"
     ]
    }
   ],
   "source": [
    "Ts_new = Tinf - Q/h_ext/As\n",
    "Tout = Ts_new - Q/h_int/As\n",
    "print (\"The surface temp iteration value is: \",Ts_new,\" degC : should be 60 degC.\")\n",
    "print (\"The temperature of the egg is: \", Tout,\" degC\")"
   ]
  },
  {
   "cell_type": "markdown",
   "metadata": {
    "collapsed": true
   },
   "source": [
    "#### Transcient calculation assuming Ts=60 $^o$C"
   ]
  },
  {
   "cell_type": "code",
   "execution_count": 10,
   "metadata": {
    "collapsed": false
   },
   "outputs": [
    {
     "name": "stdout",
     "output_type": "stream",
     "text": [
      "The required lenth is:  3.98156283638  m\n"
     ]
    }
   ],
   "source": [
    "Tlm = (Ti-Tout)/np.log((Ts-Tout)/(Ts-Ti))\n",
    "Areq = Q/h_int/Tlm\n",
    "Lreq = Areq/np.pi/D\n",
    "print('The required lenth is: ',Lreq,' m')"
   ]
  },
  {
   "cell_type": "markdown",
   "metadata": {},
   "source": [
    "#### Transient calculation assusimg a bath temp of T$_{inf}$ = 65 $^o$C\n",
    "\n",
    "This is the more realistic calculation, as the surface temperature will surely not be 63 $^o$C since natural convection occurs."
   ]
  },
  {
   "cell_type": "code",
   "execution_count": 11,
   "metadata": {
    "collapsed": false
   },
   "outputs": [
    {
     "name": "stdout",
     "output_type": "stream",
     "text": [
      "The required transient length is:  113.197541049  m\n",
      "The required SS length is:  396.4785808323577  m\n"
     ]
    }
   ],
   "source": [
    "U = 1/(1/h_int + 1/h_ext)\n",
    "T1 = abs(Tinf-Ti)\n",
    "T2 = abs(Tinf-Tout)\n",
    "Tlm = (T1-T2)/np.log(T1/T2)\n",
    "Areq = Q/U/Tlm\n",
    "Lreq = Areq/np.pi/D\n",
    "print ('The required transient length is: ', Lreq,' m')\n",
    "print ('The required SS length is: ',V*60*5/(np.pi*D**2/4), ' m')"
   ]
  },
  {
   "cell_type": "markdown",
   "metadata": {},
   "source": [
    "## Fitting in the windings"
   ]
  },
  {
   "cell_type": "code",
   "execution_count": 17,
   "metadata": {
    "collapsed": false
   },
   "outputs": [
    {
     "data": {
      "text/plain": [
       "(406.6477530806628, 1.928, 8.722066516014413, 5.809237437331234)"
      ]
     },
     "execution_count": 17,
     "metadata": {},
     "output_type": "execute_result"
    }
   ],
   "source": [
    "r = 1.2\n",
    "ro = r - 0.2\n",
    "Stack = 16\n",
    "Length = 0\n",
    "Height = Stack*D + 0.4\n",
    "\n",
    "while ro>0.6:\n",
    "    L1 = Stack*2*ro*np.pi\n",
    "    ro -= D\n",
    "    Length += L1\n",
    "\n",
    "Volume = Height*np.pi*r**2\n",
    "Volume_pipes = Length*np.pi/4*D**2\n",
    "Volume_cooling = Volume - Volume_pipes\n",
    "Length, Height, Volume, Volume_cooling"
   ]
  },
  {
   "cell_type": "markdown",
   "metadata": {
    "collapsed": true
   },
   "source": [
    "### Heat loss out of the container\n",
    "\n",
    "Assume there is no heat loss to the ground. There will therefore be heat loss via:\n",
    "- The surface of the water to the air (natuaral convection)\n",
    "- The side of the container(conduction, natuaral convection)\n",
    "- Tinf was assumed to be 0 $^o$C\n",
    "- Heat loss due to radiation was assumed to be neglegible"
   ]
  },
  {
   "cell_type": "markdown",
   "metadata": {},
   "source": [
    "##### All of the necessary parameters"
   ]
  },
  {
   "cell_type": "code",
   "execution_count": 18,
   "metadata": {
    "collapsed": true
   },
   "outputs": [],
   "source": [
    "A_top = np.pi*r**2\n",
    "\n",
    "Tinf = 0\n",
    "Ts = 63\n",
    "Tf = (Ts+Tinf)/2\n",
    "\n",
    "k_brick = 0.72\n",
    "\n",
    "Cp_air = 1006\n",
    "mu_air = 1.729E-5\n",
    "visc_air = 1.338E-5\n",
    "k_air = 0.02364\n",
    "Pr_air = 0.7362\n",
    "\n",
    "Beta = 1/(Tf+273.15)\n",
    "g = 9.807"
   ]
  },
  {
   "cell_type": "markdown",
   "metadata": {},
   "source": [
    "##### Calculating the Convective Heat Transfer Coeffisient for natuaral convection (AIR)"
   ]
  },
  {
   "cell_type": "code",
   "execution_count": 19,
   "metadata": {
    "collapsed": false
   },
   "outputs": [
    {
     "data": {
      "text/plain": [
       "0.0036302499504440463"
      ]
     },
     "execution_count": 19,
     "metadata": {},
     "output_type": "execute_result"
    }
   ],
   "source": [
    "Ra_air = g*Beta*(Ts-Tinf)*(2*r)**3/visc_air**2 * Pr_air\n",
    "Nu_air = (0.6 + (0.387*Ra_air**(1/6))/(1 + (0.559/Pr_air)**(9/16))**8/27)**2\n",
    "h_top = k_air/(2*r)*Nu_air\n",
    "h_top"
   ]
  },
  {
   "cell_type": "markdown",
   "metadata": {},
   "source": [
    "##### Calculating the heat loss at the top of the tank\n",
    "\n",
    "- Assume that the top of the tank is well insulated with the lid placed on top"
   ]
  },
  {
   "cell_type": "code",
   "execution_count": 20,
   "metadata": {
    "collapsed": false
   },
   "outputs": [
    {
     "name": "stdout",
     "output_type": "stream",
     "text": [
      "The heat loss at the water to air interface is: 1.0346404236848825  W\n"
     ]
    }
   ],
   "source": [
    "Q_loss_top = h_top*A_top*(Ts-Tinf)\n",
    "print(\"The heat loss at the water to air interface is:\",Q_loss_top,\" W\")"
   ]
  },
  {
   "cell_type": "markdown",
   "metadata": {},
   "source": [
    "##### Calculating heat loss through the sides of the tank by way of a resistance network"
   ]
  },
  {
   "cell_type": "code",
   "execution_count": 21,
   "metadata": {
    "collapsed": false
   },
   "outputs": [
    {
     "name": "stdout",
     "output_type": "stream",
     "text": [
      "The heat loss through the sides of the container is: 3.3162012497823192  W\n"
     ]
    }
   ],
   "source": [
    "Wall_thickness = 0.23\n",
    "A_sides = Height*2*r*np.pi\n",
    "\n",
    "R_inside = 1/(h_ext*A_sides)\n",
    "R_cond = Wall_thickness/(k_brick*A_sides)\n",
    "R_outside = 1/(h_top*A_sides)\n",
    "R_total = R_inside + R_cond + R_outside\n",
    "\n",
    "Q_loss_sides = (Ts-Tinf)/R_total\n",
    "print(\"The heat loss through the sides of the container is:\",Q_loss_sides,\" W\")"
   ]
  },
  {
   "cell_type": "markdown",
   "metadata": {},
   "source": [
    "##### Heat loss due to radiation"
   ]
  },
  {
   "cell_type": "code",
   "execution_count": 26,
   "metadata": {
    "collapsed": false
   },
   "outputs": [
    {
     "data": {
      "text/plain": [
       "(4429.8911086269945, 332.84000435996956)"
      ]
     },
     "execution_count": 26,
     "metadata": {},
     "output_type": "execute_result"
    }
   ],
   "source": [
    "sigma = 5.67E-8\n",
    "epsilon = 0.8\n",
    "Tsurr = 273\n",
    "Ts = (60 - Q_loss_sides*(R_inside+R_cond))+273\n",
    "Q_rad = sigma*epsilon*A_sides*(Ts**4-Tsurr**4)\n",
    "Q_rad,Ts"
   ]
  },
  {
   "cell_type": "markdown",
   "metadata": {},
   "source": [
    "##### Calculating the total heat loss (which is the amout of heat that needs to be added)"
   ]
  },
  {
   "cell_type": "code",
   "execution_count": 30,
   "metadata": {
    "collapsed": false
   },
   "outputs": [
    {
     "name": "stdout",
     "output_type": "stream",
     "text": [
      "The total amount of heat to be added by way of the heating coil:  4.433  kW\n"
     ]
    }
   ],
   "source": [
    "Q_total_added = Q_loss_sides + Q_rad #+ Q but the transcient heating will not be used\n",
    "print('The total amount of heat to be added by way of the heating coil: ',str(Q_total_added/1000)[0:5], ' kW')"
   ]
  },
  {
   "cell_type": "markdown",
   "metadata": {},
   "source": [
    "# Possible drawbacks of this system\n",
    "\n",
    "The drawbacks involve:\n",
    "- Slow response of temperature regulation in case of control\n",
    "- Transcient region will cool the liquid surrounding the pipes, leading to bad heat transfer\n",
    "- Temperature throughout the tank will not be the same, due to unideal mixing\n",
    "- Very long piping and therefore high construction cost\n",
    "\n",
    "The positives involve:\n",
    "- For the steadystate region there really is no better option\n",
    "- The heat loss will not be radical due to still air surrounding the tank\n",
    "\n",
    "Recommendations:\n",
    "- It is recommended that the IHT stand in a building like structure in order to assure natuaral convection"
   ]
  },
  {
   "cell_type": "code",
   "execution_count": null,
   "metadata": {
    "collapsed": true
   },
   "outputs": [],
   "source": []
  }
 ],
 "metadata": {
  "anaconda-cloud": {},
  "kernelspec": {
   "display_name": "Python [Root]",
   "language": "python",
   "name": "Python [Root]"
  },
  "language_info": {
   "codemirror_mode": {
    "name": "ipython",
    "version": 3
   },
   "file_extension": ".py",
   "mimetype": "text/x-python",
   "name": "python",
   "nbconvert_exporter": "python",
   "pygments_lexer": "ipython3",
   "version": "3.5.2"
  }
 },
 "nbformat": 4,
 "nbformat_minor": 0
}
