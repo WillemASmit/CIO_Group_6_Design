{
 "cells": [
  {
   "cell_type": "markdown",
   "metadata": {},
   "source": [
    "## Imports"
   ]
  },
  {
   "cell_type": "code",
   "execution_count": 199,
   "metadata": {
    "collapsed": true
   },
   "outputs": [],
   "source": [
    "import numpy as np"
   ]
  },
  {
   "cell_type": "markdown",
   "metadata": {},
   "source": [
    "## Functions"
   ]
  },
  {
   "cell_type": "code",
   "execution_count": 200,
   "metadata": {
    "collapsed": false
   },
   "outputs": [],
   "source": [
    "def Table_Heat(Re):\n",
    "    if Re <= 10:\n",
    "        Ch = 0.718\n",
    "        y = 0.349\n",
    "    elif Re > 10:\n",
    "        Ch = 0.348\n",
    "        y = 0.663\n",
    "    return [Ch,y]\n",
    "\n",
    "def Table_Press(Re):\n",
    "    if Re < 10:\n",
    "        Kp = 50\n",
    "        z = 1\n",
    "    elif Re >= 10 and Re <= 100:\n",
    "        Kp = 19.40\n",
    "        z = 0.589\n",
    "    elif Re > 100:\n",
    "        Kp = 2.990\n",
    "        z = 0.183\n",
    "    return [Kp,z]\n",
    "\n",
    "def Visco_water(T):\n",
    "    Visc = (3e-08*T**4 - 9e-06*T**3 + 0.001*T**2 - 0.0552*T + 1.7784) # cPoise\n",
    "    return Visc\n",
    "\n",
    "def Visco_egg(T):\n",
    "    Visc = 21.325*np.exp(-0.022*T) # cPoise\n",
    "    return Visc\n",
    "\n",
    "def density_egg(T):\n",
    "    rho = -0.0036*T**2-0.272*T+1039.9 # kg/m^3\n",
    "    return rho\n",
    "\n",
    "def density_water(T):\n",
    "    rho = -0.0036*T**2 - 0.0656*T + 1000.4 # kg/m^3\n",
    "    return rho"
   ]
  },
  {
   "cell_type": "markdown",
   "metadata": {},
   "source": [
    "## Parameters"
   ]
  },
  {
   "cell_type": "code",
   "execution_count": 238,
   "metadata": {
    "collapsed": false
   },
   "outputs": [
    {
     "name": "stdout",
     "output_type": "stream",
     "text": [
      "27 20.7435267832 7.63582221085\n"
     ]
    }
   ],
   "source": [
    "T_r1 = 8\n",
    "T_r2 = 35\n",
    "\n",
    "T_r3 = 60\n",
    "T_r4 = 33\n",
    "\n",
    "T_h1 = T_r2\n",
    "T_h2 = 63\n",
    "\n",
    "T_h3 = 80\n",
    "T_h4 = 60\n",
    "\n",
    "T_c1 = 1\n",
    "T_c2 = 20\n",
    "\n",
    "T_c3 = T_r4\n",
    "T_c4 = 5\n",
    "\n",
    "Mass_Egg = 35000 # kg/h\n",
    "Mass_Hwater = 30000 # kg/h\n",
    "Mass_Cwater = 34000 # kg/h\n",
    "\n",
    "LMTD_R = T_r2 - T_r1\n",
    "LMTD_H = ((T_h4 - T_h1) - (T_h3 - T_h2))/np.log((T_h4 - T_h1)/(T_h3 - T_h2))\n",
    "LMTD_C = ((T_c4 - T_c1) - (T_c3 - T_c2))/np.log((T_c4 - T_c1)/(T_c3 - T_c2))\n",
    "\n",
    "print (LMTD_R,LMTD_H,LMTD_C)"
   ]
  },
  {
   "cell_type": "markdown",
   "metadata": {},
   "source": [
    "## Properties"
   ]
  },
  {
   "cell_type": "code",
   "execution_count": 202,
   "metadata": {
    "collapsed": false
   },
   "outputs": [],
   "source": [
    "# Egg \n",
    "\n",
    "Cp_egg = 2.68 # KJ/Kg K\n",
    "k_egg = 0.40\n",
    "\n",
    "# Water for Heating\n",
    "\n",
    "mu_Hwater = Visco_water((T_h3 + T_h4)/2)\n",
    "Cp_Hwater = 4.187\n",
    "k_Hwater = 0.4\n",
    "rho_Hwater = density_water((T_h3 + T_h4)/2)\n",
    "\n",
    "mu_bHwater = Visco_water((T_h3 + T_h4)/2)\n",
    "mu_wHwater = Visco_water((T_h3 + T_h4)/2 - 2)\n",
    "\n",
    "# Water for Cooling\n",
    "\n",
    "mu_Cwater = Visco_water((T_c1 + T_c2)/2)\n",
    "Cp_Cwater = 4.187\n",
    "k_Cwater = 0.397\n",
    "rho_Cwater = density_water((T_c1 + T_c2)/2)\n",
    "\n",
    "mu_bCwater = Visco_water((T_c1 + T_c2)/2)\n",
    "mu_wCwater = Visco_water((T_c1 + T_c2)/2 + 2)\n",
    "\n",
    "# Stainless Steel AISI 316\n",
    "\n",
    "Kw = 16.3\n",
    "\n",
    "# Fouling Factors\n",
    "\n",
    "R_fh = 0.0002\n",
    "R_fc = 0.0005"
   ]
  },
  {
   "cell_type": "markdown",
   "metadata": {},
   "source": [
    "## Regenerative PHE"
   ]
  },
  {
   "cell_type": "markdown",
   "metadata": {},
   "source": [
    "### Plate design"
   ]
  },
  {
   "cell_type": "code",
   "execution_count": 217,
   "metadata": {
    "collapsed": false
   },
   "outputs": [
    {
     "name": "stdout",
     "output_type": "stream",
     "text": [
      "0.006410526315789472\n"
     ]
    }
   ],
   "source": [
    "Dp = 0.08 # m\n",
    "Lv = 1.095 # m\n",
    "Lh = 0.22 # m\n",
    "t = 0.6/1000 # mm\n",
    "Beta = 30 \n",
    "A1 = 0.38 # m\n",
    "b = 0.004 # m\n",
    "\n",
    "Lp = Lv - Dp\n",
    "Lw = Lh + Dp\n",
    "\n",
    "A_1p = Lp*Lw\n",
    "\n",
    "phi = A1/A_1p\n",
    "De = 2*b/phi\n",
    "print (De)\n",
    "\n",
    "Np = 2 # Inputs\n",
    "Nt = 112"
   ]
  },
  {
   "cell_type": "markdown",
   "metadata": {},
   "source": [
    "## Nusselt and heat capacity "
   ]
  },
  {
   "cell_type": "markdown",
   "metadata": {},
   "source": [
    "### Hot side"
   ]
  },
  {
   "cell_type": "code",
   "execution_count": 218,
   "metadata": {
    "collapsed": false
   },
   "outputs": [
    {
     "name": "stdout",
     "output_type": "stream",
     "text": [
      "48.5109995347 3026.95892006\n"
     ]
    }
   ],
   "source": [
    "mu_egg = Visco_egg((T_r3 + T_r4)/2)\n",
    "mu_wegg = Visco_egg((T_r3 + T_r4)/2 - 2)\n",
    "rho_egg = density_egg((T_r3 + T_r4)/2)\n",
    "\n",
    "Ncp = (Nt - 1)/(2*Np)\n",
    "Gc = (Mass_Egg/3600)/(Ncp*b*Lw)\n",
    "Re = Gc*De/(mu_egg/1000)\n",
    "\n",
    "Pr = Cp_egg*(mu_egg)/k_egg\n",
    "\n",
    "C_h,y = Table_Heat(Re)\n",
    "J_h = C_h*Re**y\n",
    "\n",
    "Nu = J_h*(Pr**0.33)*(mu_egg/mu_wegg)**0.17\n",
    "H_h = Nu*k_egg/De\n",
    "\n",
    "print (Nu,H_h)"
   ]
  },
  {
   "cell_type": "markdown",
   "metadata": {},
   "source": [
    "## Pressure drop"
   ]
  },
  {
   "cell_type": "markdown",
   "metadata": {},
   "source": [
    "### Hot side"
   ]
  },
  {
   "cell_type": "code",
   "execution_count": 219,
   "metadata": {
    "collapsed": false
   },
   "outputs": [
    {
     "name": "stdout",
     "output_type": "stream",
     "text": [
      "68.0643836669\n"
     ]
    }
   ],
   "source": [
    "Kp,z = Table_Press(Re)\n",
    "f = Kp/(Re**z)\n",
    "\n",
    "Pc = (4*f*Lv*Np*Gc**2)/(De*2*rho_egg)*(mu_egg/mu_wegg)**-0.17\n",
    "\n",
    "Gp = (Mass_Egg/3600)/((np.pi/4)*Dp**2)\n",
    "\n",
    "Pp = 1.4*(Gp**2)/(2*rho_egg)*Np\n",
    "Tot_pressure = Pc + Pp\n",
    "print (Tot_pressure/1000)"
   ]
  },
  {
   "cell_type": "markdown",
   "metadata": {},
   "source": [
    "### Cold side"
   ]
  },
  {
   "cell_type": "code",
   "execution_count": 220,
   "metadata": {
    "collapsed": false
   },
   "outputs": [
    {
     "name": "stdout",
     "output_type": "stream",
     "text": [
      "41.0011685189 2558.36519494\n"
     ]
    }
   ],
   "source": [
    "mu_egg = Visco_egg((T_r1 + T_r2)/2)\n",
    "mu_wegg = Visco_egg((T_r1 + T_r2)/2 + 2)\n",
    "rho_egg = density_egg((T_r1 + T_r2)/2)\n",
    "\n",
    "Ncp = (Nt - 1)/(2*Np)\n",
    "Gc = (Mass_Egg/3600)/(Ncp*b*Lw)\n",
    "Re = Gc*De/(mu_egg/1000) \n",
    "\n",
    "Pr = Cp_egg*mu_egg/k_egg\n",
    "\n",
    "C_h,y = Table_Heat(Re)\n",
    "J_h = C_h*Re**y\n",
    "\n",
    "Nu = J_h*(Pr**0.33)*(mu_egg/mu_wegg)**0.17\n",
    "H_c = Nu*k_egg/De\n",
    "\n",
    "print (Nu,H_c)"
   ]
  },
  {
   "cell_type": "markdown",
   "metadata": {},
   "source": [
    "### Cold side"
   ]
  },
  {
   "cell_type": "code",
   "execution_count": 221,
   "metadata": {
    "collapsed": false
   },
   "outputs": [
    {
     "name": "stdout",
     "output_type": "stream",
     "text": [
      "72.7721053332\n"
     ]
    }
   ],
   "source": [
    "Kp,z = Table_Press(Re)\n",
    "\n",
    "f = Kp/Re**z\n",
    "\n",
    "Pc = (4*f*Lv*Np*Gc**2)/(De*2*rho_egg)*(mu_egg/mu_wegg)**-0.17\n",
    "\n",
    "Gp = (Mass_Egg/3600)/((np.pi/4)*Dp**2)\n",
    "\n",
    "Pp = 1.4*(Gp**2)/(2*rho_egg)*Np\n",
    "\n",
    "Tot_pressure = Pc + Pp\n",
    "print (Tot_pressure/1000)"
   ]
  },
  {
   "cell_type": "markdown",
   "metadata": {},
   "source": [
    "## Heat Transfer Calculations"
   ]
  },
  {
   "cell_type": "code",
   "execution_count": 222,
   "metadata": {
    "collapsed": false
   },
   "outputs": [
    {
     "name": "stdout",
     "output_type": "stream",
     "text": [
      "1.00388936107\n"
     ]
    }
   ],
   "source": [
    "U_f = 1/(1/H_h + 1/H_c + t/Kw + (R_fh + R_fc)*1.2)\n",
    "Qr = (Mass_Egg/3600)*Cp_egg*(T_r2 - T_r1)\n",
    "\n",
    "Ne = Nt-2\n",
    "Ae = A1*Ne\n",
    "F = 1\n",
    "\n",
    "Qf = U_f*Ae*F*LMTD_R\n",
    "\n",
    "C = Qf/(Qr*1000)\n",
    "print (C)"
   ]
  },
  {
   "cell_type": "markdown",
   "metadata": {},
   "source": [
    "## Flowrate Correction"
   ]
  },
  {
   "cell_type": "code",
   "execution_count": 223,
   "metadata": {
    "collapsed": false
   },
   "outputs": [
    {
     "data": {
      "text/plain": [
       "35136.127637492275"
      ]
     },
     "execution_count": 223,
     "metadata": {},
     "output_type": "execute_result"
    }
   ],
   "source": [
    "Mass_egg = (Qf/1000)/(Cp_egg*((T_r2 - T_r1)))*3600\n",
    "Mass_egg"
   ]
  },
  {
   "cell_type": "markdown",
   "metadata": {},
   "source": [
    "## Heating PHE"
   ]
  },
  {
   "cell_type": "markdown",
   "metadata": {},
   "source": [
    "## Nusselt and heat capacity "
   ]
  },
  {
   "cell_type": "markdown",
   "metadata": {},
   "source": [
    "### Hot side"
   ]
  },
  {
   "cell_type": "code",
   "execution_count": 224,
   "metadata": {
    "collapsed": true
   },
   "outputs": [],
   "source": [
    "Np = 2 # Inputs\n",
    "Nt = 128"
   ]
  },
  {
   "cell_type": "code",
   "execution_count": 225,
   "metadata": {
    "collapsed": false
   },
   "outputs": [
    {
     "name": "stdout",
     "output_type": "stream",
     "text": [
      "119.84256787508771 7477.8613780842925\n"
     ]
    }
   ],
   "source": [
    "Ncp = (Nt - 1)/(2*Np)\n",
    "Gc = (Mass_Hwater/3600)/(Ncp*b*Lw)\n",
    "Re = Gc*De/(mu_Hwater/1000)\n",
    "\n",
    "Pr = Cp_Hwater*(mu_Hwater)/k_Hwater\n",
    "\n",
    "C_h,y = Table_Heat(Re)\n",
    "J_h = C_h*Re**y\n",
    "\n",
    "Nu = J_h*(Pr**0.33)*(mu_bHwater/mu_wHwater)**0.17\n",
    "H_h = Nu*k_Hwater/De\n",
    "\n",
    "print (Nu,H_h)"
   ]
  },
  {
   "cell_type": "markdown",
   "metadata": {},
   "source": [
    "## Pressure drop"
   ]
  },
  {
   "cell_type": "markdown",
   "metadata": {},
   "source": [
    "### Hot side"
   ]
  },
  {
   "cell_type": "code",
   "execution_count": 226,
   "metadata": {
    "collapsed": false
   },
   "outputs": [
    {
     "name": "stdout",
     "output_type": "stream",
     "text": [
      "26.664687407984378\n"
     ]
    }
   ],
   "source": [
    "Kp,z = Table_Press(Re)\n",
    "f = Kp/(Re**z)\n",
    "\n",
    "Pc = (4*f*Lv*Np*Gc**2)/(De*2*rho_Hwater)*(mu_bHwater/mu_wHwater)**-0.17\n",
    "\n",
    "Gp = (Mass_Hwater/3600)/((np.pi/4)*Dp**2)\n",
    "\n",
    "Pp = 1.3*(Gp**2)/(2*rho_Hwater)*Np\n",
    "Tot_pressure = Pc + Pp\n",
    "print (Tot_pressure/1000)"
   ]
  },
  {
   "cell_type": "markdown",
   "metadata": {},
   "source": [
    "### Cold side"
   ]
  },
  {
   "cell_type": "code",
   "execution_count": 227,
   "metadata": {
    "collapsed": false
   },
   "outputs": [
    {
     "name": "stdout",
     "output_type": "stream",
     "text": [
      "45.8689332275 2862.10092388\n"
     ]
    }
   ],
   "source": [
    "mu_egg = Visco_egg((T_h1 + T_h2)/2)\n",
    "mu_wegg = Visco_egg((T_h1 + T_h2)/2 + 2)\n",
    "rho_egg = density_egg((T_h1 + T_h2)/2)\n",
    "\n",
    "Ncp = (Nt - 1)/(2*Np)\n",
    "Gc = (Mass_Egg/3600)/(Ncp*b*Lw)\n",
    "Re = Gc*De/(mu_egg/1000) \n",
    "\n",
    "Pr = Cp_egg*mu_egg/k_egg\n",
    "\n",
    "C_h,y = Table_Heat(Re)\n",
    "J_h = C_h*Re**y\n",
    "\n",
    "Nu = J_h*(Pr**0.33)*(mu_egg/mu_wegg)**0.17\n",
    "H_c = Nu*k_egg/De\n",
    "\n",
    "print (Nu,H_c)"
   ]
  },
  {
   "cell_type": "markdown",
   "metadata": {
    "collapsed": true
   },
   "source": [
    "### Cold side"
   ]
  },
  {
   "cell_type": "code",
   "execution_count": 228,
   "metadata": {
    "collapsed": false
   },
   "outputs": [
    {
     "name": "stdout",
     "output_type": "stream",
     "text": [
      "52.9020827684\n"
     ]
    }
   ],
   "source": [
    "Kp,z = Table_Press(Re)\n",
    "\n",
    "f = Kp/Re**z\n",
    "\n",
    "Pc = (4*f*Lv*Np*Gc**2)/(De*2*rho_egg)*(mu_egg/mu_wegg)**-0.17\n",
    "\n",
    "Gp = (Mass_Egg/3600)/((np.pi/4)*Dp**2)\n",
    "\n",
    "Pp = 1.3*(Gp**2)/(2*rho_egg)*Np\n",
    "\n",
    "Tot_pressure = Pc + Pp\n",
    "print (Tot_pressure/1000)"
   ]
  },
  {
   "cell_type": "markdown",
   "metadata": {
    "collapsed": true
   },
   "source": [
    "## Heat Transfer Calculations"
   ]
  },
  {
   "cell_type": "code",
   "execution_count": 229,
   "metadata": {
    "collapsed": false
   },
   "outputs": [
    {
     "name": "stdout",
     "output_type": "stream",
     "text": [
      "1.00106277116\n"
     ]
    }
   ],
   "source": [
    "Kw = 16.3\n",
    "R_fh = 0.0002\n",
    "R_fc = 0.0005\n",
    "\n",
    "U_f = 1/(1/H_h + 1/H_c + t/Kw +(R_fh + R_fc)*1.2)\n",
    "Qr = (Mass_Egg/3600)*Cp_egg*(T_h2 - T_h1)\n",
    "\n",
    "Ne = Nt-2\n",
    "Ae = A1*Ne\n",
    "F = 1\n",
    "\n",
    "Qf = U_f*Ae*F*LMTD_H\n",
    "\n",
    "C = Qf/(Qr*1000)\n",
    "print (C)"
   ]
  },
  {
   "cell_type": "markdown",
   "metadata": {},
   "source": [
    "## Flowrate Correction"
   ]
  },
  {
   "cell_type": "code",
   "execution_count": 230,
   "metadata": {
    "collapsed": false
   },
   "outputs": [
    {
     "name": "stdout",
     "output_type": "stream",
     "text": [
      "35037.1969908 31397.0774085\n"
     ]
    }
   ],
   "source": [
    "Mass_egg = ((Qf/1000)/(Cp_egg*((T_h2 - T_h1)))*3600)\n",
    "Mass_water = ((Qf/1000)/(Cp_Hwater*((T_h3 - T_h4)))*3600)\n",
    "print (Mass_egg,Mass_water)"
   ]
  },
  {
   "cell_type": "markdown",
   "metadata": {},
   "source": [
    "## Cooling PHE"
   ]
  },
  {
   "cell_type": "markdown",
   "metadata": {},
   "source": [
    "## Nusselt and heat capacity"
   ]
  },
  {
   "cell_type": "markdown",
   "metadata": {},
   "source": [
    "### Hot side"
   ]
  },
  {
   "cell_type": "code",
   "execution_count": 231,
   "metadata": {
    "collapsed": true
   },
   "outputs": [],
   "source": [
    "Np = 4 # Inputs\n",
    "Nt =448"
   ]
  },
  {
   "cell_type": "code",
   "execution_count": 232,
   "metadata": {
    "collapsed": false
   },
   "outputs": [
    {
     "name": "stdout",
     "output_type": "stream",
     "text": [
      "24.9357950331 1555.9280973\n"
     ]
    }
   ],
   "source": [
    "mu_egg = Visco_egg((T_c3 + T_c4)/2)\n",
    "mu_wegg = Visco_egg((T_c3 + T_c4)/2 - 2)\n",
    "rho_egg = density_egg((T_c3 + T_c4)/2)\n",
    "\n",
    "Ncp = (Nt - 1)/(2*Np)\n",
    "Gc = (Mass_Egg/3600)/(Ncp*b*Lw)\n",
    "Re = Gc*De/(mu_egg/1000) \n",
    "\n",
    "Pr = Cp_egg*mu_egg/k_egg\n",
    "\n",
    "C_h,y = Table_Heat(Re)\n",
    "J_h = C_h*Re**y\n",
    "\n",
    "Nu = J_h*(Pr**0.33)*(mu_egg/mu_wegg)**0.17\n",
    "H_h = Nu*k_egg/De\n",
    "\n",
    "print (Nu,H_h)"
   ]
  },
  {
   "cell_type": "markdown",
   "metadata": {},
   "source": [
    "## Pressure drop"
   ]
  },
  {
   "cell_type": "markdown",
   "metadata": {},
   "source": [
    "### Hot side"
   ]
  },
  {
   "cell_type": "code",
   "execution_count": 233,
   "metadata": {
    "collapsed": false
   },
   "outputs": [
    {
     "name": "stdout",
     "output_type": "stream",
     "text": [
      "55.3951100207\n"
     ]
    }
   ],
   "source": [
    "Kp,z = Table_Press(Re)\n",
    "f = Kp/Re**z\n",
    "\n",
    "Pc = (4*f*Lv*Np*Gc**2)/(De*2*rho_egg)*(mu_egg/mu_wegg)**-0.17\n",
    "\n",
    "Gp = (Mass_Egg/3600)/((np.pi/4)*Dp**2)\n",
    "\n",
    "Pp = 1.3*(Gp**2)/(2*rho_egg)*Np\n",
    "\n",
    "Tot_pressure = Pc + Pp\n",
    "print (Tot_pressure/1000)"
   ]
  },
  {
   "cell_type": "markdown",
   "metadata": {},
   "source": [
    "### Cold side"
   ]
  },
  {
   "cell_type": "code",
   "execution_count": 234,
   "metadata": {
    "collapsed": false
   },
   "outputs": [
    {
     "name": "stdout",
     "output_type": "stream",
     "text": [
      "63.84786940551802 3954.0597612957517\n"
     ]
    }
   ],
   "source": [
    "Ncp = (Nt - 1)/(2*Np)\n",
    "Gc = (Mass_Cwater/3600)/(Ncp*b*Lw)\n",
    "Re = Gc*De/(mu_Cwater/1000)\n",
    "\n",
    "Pr = Cp_Cwater*(mu_Cwater)/k_Cwater\n",
    "\n",
    "C_h,y = Table_Heat(Re)\n",
    "J_h = C_h*Re**y\n",
    "\n",
    "Nu = J_h*(Pr**0.33)*(mu_bCwater/mu_wCwater)**0.17\n",
    "H_c = Nu*k_Cwater/De\n",
    "\n",
    "print (Nu,H_c)"
   ]
  },
  {
   "cell_type": "markdown",
   "metadata": {},
   "source": [
    "### Cold side"
   ]
  },
  {
   "cell_type": "code",
   "execution_count": 235,
   "metadata": {
    "collapsed": false
   },
   "outputs": [
    {
     "name": "stdout",
     "output_type": "stream",
     "text": [
      "33.44427121606136\n"
     ]
    }
   ],
   "source": [
    "Kp,z = Table_Press(Re)\n",
    "f = Kp/(Re**z)\n",
    "\n",
    "Pc = (4*f*Lv*Np*Gc**2)/(De*2*rho_Cwater)*(mu_bCwater/mu_wCwater)**-0.17\n",
    "\n",
    "Gp = (Mass_Cwater/3600)/((np.pi/4)*Dp**2)\n",
    "\n",
    "Pp = 1.3*(Gp**2)/(2*rho_Cwater)*Np\n",
    "Tot_pressure = Pc + Pp\n",
    "print (Tot_pressure/1000)"
   ]
  },
  {
   "cell_type": "markdown",
   "metadata": {},
   "source": [
    "## Heat Transfer Calculations"
   ]
  },
  {
   "cell_type": "code",
   "execution_count": 236,
   "metadata": {
    "collapsed": false
   },
   "outputs": [
    {
     "name": "stdout",
     "output_type": "stream",
     "text": [
      "1.00080582691\n"
     ]
    }
   ],
   "source": [
    "Kw = 16.3\n",
    "R_fh = 0.0002\n",
    "R_fc = 0.0005\n",
    "\n",
    "U_f = 1/(1/H_h + 1/H_c + t/Kw + (R_fh + R_fc)*1.2)\n",
    "Qr = (Mass_Egg/3600)*Cp_egg*(T_c3 - T_c4)\n",
    "\n",
    "Ne = Nt-2\n",
    "Ae = A1*Ne\n",
    "F = 1\n",
    "\n",
    "Qf = U_f*Ae*F*LMTD_C\n",
    "C = Qf/(Qr*1000)\n",
    "print (C)"
   ]
  },
  {
   "cell_type": "markdown",
   "metadata": {},
   "source": [
    "## Flowrate Correction"
   ]
  },
  {
   "cell_type": "code",
   "execution_count": 237,
   "metadata": {
    "collapsed": false
   },
   "outputs": [
    {
     "name": "stdout",
     "output_type": "stream",
     "text": [
      "35028.2039418 33041.0722888\n"
     ]
    }
   ],
   "source": [
    "Mass_egg = ((Qf/1000)/(Cp_egg*((T_c3 - T_c4)))*3600)\n",
    "Mass_water = ((Qf/1000)/(Cp_Cwater*((T_c2 - T_c1)))*3600)\n",
    "print (Mass_egg,Mass_water)"
   ]
  },
  {
   "cell_type": "code",
   "execution_count": null,
   "metadata": {
    "collapsed": true
   },
   "outputs": [],
   "source": []
  }
 ],
 "metadata": {
  "anaconda-cloud": {},
  "kernelspec": {
   "display_name": "Python [Root]",
   "language": "python",
   "name": "Python [Root]"
  },
  "language_info": {
   "codemirror_mode": {
    "name": "ipython",
    "version": 3
   },
   "file_extension": ".py",
   "mimetype": "text/x-python",
   "name": "python",
   "nbconvert_exporter": "python",
   "pygments_lexer": "ipython3",
   "version": "3.5.2"
  }
 },
 "nbformat": 4,
 "nbformat_minor": 0
}
