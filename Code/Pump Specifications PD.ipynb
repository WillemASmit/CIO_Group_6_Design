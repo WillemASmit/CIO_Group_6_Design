{
 "cells": [
  {
   "cell_type": "markdown",
   "metadata": {},
   "source": [
    "# Imports & Constants"
   ]
  },
  {
   "cell_type": "code",
   "execution_count": 1,
   "metadata": {
    "collapsed": true
   },
   "outputs": [],
   "source": [
    "from __future__ import division\n",
    "import numpy as np\n",
    "import sympy\n",
    "sympy.init_printing()\n",
    "import matplotlib.pyplot as plt\n",
    "%matplotlib inline\n",
    "from ipywidgets import interact\n",
    "from scipy.integrate import odeint\n",
    "from scipy.optimize import fsolve"
   ]
  },
  {
   "cell_type": "code",
   "execution_count": 2,
   "metadata": {
    "collapsed": true
   },
   "outputs": [],
   "source": [
    "g = 9.807\n",
    "P_atm = 82 #kPa"
   ]
  },
  {
   "cell_type": "markdown",
   "metadata": {},
   "source": [
    "# Fluid properties"
   ]
  },
  {
   "cell_type": "code",
   "execution_count": 3,
   "metadata": {
    "collapsed": false
   },
   "outputs": [],
   "source": [
    "ρ = 1127 #kg/m^3\n",
    "SG = ρ/1000\n",
    "μ = 0.012 #Pa.s"
   ]
  },
  {
   "cell_type": "markdown",
   "metadata": {},
   "source": [
    "# Pipeline properties"
   ]
  },
  {
   "cell_type": "code",
   "execution_count": 4,
   "metadata": {
    "collapsed": true
   },
   "outputs": [],
   "source": [
    "d = 95.5 #in mm\n",
    "d_inch = d * 0.03937 #in inches\n",
    "D = d/1000 #in m\n",
    "epsilon = 0.015 #in mm\n",
    "W_n = 35000/60/60 #kg/s\n",
    "W_d = 1.15*W_n #kg/s\n",
    "W_m = 1.15/1.05 * W_n"
   ]
  },
  {
   "cell_type": "markdown",
   "metadata": {},
   "source": [
    "# Suction line"
   ]
  },
  {
   "cell_type": "code",
   "execution_count": 5,
   "metadata": {
    "collapsed": false
   },
   "outputs": [],
   "source": [
    "length_suction = 2\n",
    "dZ_suction = -8.2\n",
    "resist_suction = [4, 0, 2, 0, 2, 0, 1, 0]\n",
    "# (90 deg elbows, Check Valve, Butterfly valves, Gate Valves, soft tee, hard tee, \n",
    "# Pipe enterances, Pipe exits)"
   ]
  },
  {
   "cell_type": "markdown",
   "metadata": {},
   "source": [
    "# Delivery line"
   ]
  },
  {
   "cell_type": "code",
   "execution_count": 6,
   "metadata": {
    "collapsed": true
   },
   "outputs": [],
   "source": [
    "length_delivery = 32.2\n",
    "dZ_delivery = 10\n",
    "resist_delivery = [24, 0, 12, 0, 21, 0, 0, 1]\n",
    "# (90 deg elbows, Check Valve, Butterfly valves, Gate Valves, soft tee, hard tee, \n",
    "# Pipe enterances, Pipe exits)"
   ]
  },
  {
   "cell_type": "markdown",
   "metadata": {},
   "source": [
    "# Functions"
   ]
  },
  {
   "cell_type": "code",
   "execution_count": 7,
   "metadata": {
    "collapsed": true
   },
   "outputs": [],
   "source": [
    "def reynolds(u):\n",
    "    Re = (D * u * ρ) / μ\n",
    "    return Re\n",
    "\n",
    "def dPelevation(dh):\n",
    "    dPel = ρ * g * dh / 1000\n",
    "    return dPel\n",
    "\n",
    "def dPeq_f(W):\n",
    "    dPeqr = 52.90 + 68.06 + 72.77 + 55.40 + 1.73\n",
    "    Wr = 30000/60/60\n",
    "    dPeq = dPeqr * (W/Wr)**2\n",
    "    return dPeq\n",
    "\n",
    "def dP_friction(Lp, u, resistances):\n",
    "    # Resistances should be given as\n",
    "    # (90 deg elbows, Check Valve, Butterfly valves, Gate&Ball Valves, soft tee, hard tee, \n",
    "    # Pipe enterances, Pipe exits)\n",
    "    # Valves are taken as fully open\n",
    "    # All connections are taken as flanged\n",
    "    K1 = [800, 2000, 800, 300, 150, 800, 160, 0]\n",
    "    Kinf = [0.25, 10, 0.25, 0.1, 0.5, 0.8, 0.5, 1]\n",
    "    # Initial Guess for f_prime\n",
    "    sqrt_f_prime = 0.1414\n",
    "    Re = reynolds(u)\n",
    "    # Iterate to find f_prime using colebrook\n",
    "    difference = 1\n",
    "    while abs(difference) > 1E-5:\n",
    "        sqrt_f_prime = 1/(-2 * np.log10(epsilon/D/3.7 + 2.51/(Re*sqrt_f_prime)))\n",
    "        difference = 1/(sqrt_f_prime) - (-2 * np.log10(epsilon/D/3.7 + 2.51/(Re*sqrt_f_prime)))\n",
    "    f_prime = sqrt_f_prime**2\n",
    "    # Calculate the resistance coefficient for resistances\n",
    "    Ktot = 0\n",
    "    for i in range(0, 8, 1):\n",
    "        if i < 6:\n",
    "            K = K1[i]/Re + Kinf[i]*(1 + 1/d_inch)\n",
    "            Ktot += K\n",
    "        else:\n",
    "            K = K1[i]/Re + Kinf[i]\n",
    "            Ktot += K\n",
    "    # Add Resistance for the pipe\n",
    "    K_pipe = f_prime*Lp/D\n",
    "    Ktot += K_pipe\n",
    "    # Calculate friction loss\n",
    "    dP_friction = Ktot*(ρ*u**2/2000)\n",
    "    return dP_friction\n",
    "\n",
    "def suction(W):\n",
    "    # Mass flow rate in kg/s\n",
    "    u = (W/ρ) / ((np.pi*D**2)/4)\n",
    "    dPel = dPelevation(dZ_suction)\n",
    "    dPke = 1*ρ/2000*(u**2)\n",
    "    dPf = dP_friction(length_suction, u, resist_suction)\n",
    "    P_suction_flange = -(dPel + dPke + dPf)\n",
    "    return P_suction_flange\n",
    "\n",
    "def delivery(W):\n",
    "    # Mass flow rate in kg/s\n",
    "    u = (W/ρ) / ((np.pi*D**2)/4)\n",
    "    dPel = dPelevation(dZ_delivery)\n",
    "    dPke = 1*ρ/2000*(-u**2)\n",
    "    dPf = dP_friction(length_delivery, u, resist_delivery)\n",
    "    dPeq = dPeq_f(W)\n",
    "    P_delivery_flange = dPel + dPke + dPf + dPeq\n",
    "    return P_delivery_flange\n"
   ]
  },
  {
   "cell_type": "markdown",
   "metadata": {
    "collapsed": true
   },
   "source": [
    "# Calculations\n",
    "## Design conditions"
   ]
  },
  {
   "cell_type": "code",
   "execution_count": 8,
   "metadata": {
    "collapsed": false
   },
   "outputs": [
    {
     "name": "stdout",
     "output_type": "stream",
     "text": [
      "The pressure at the delivery flange is  710.142709182 kPa abs\n",
      "The pressure at the suction flange is  150.178096328 kPa abs\n",
      "The pressure supplied by the pump is  559.964612854 kPa\n"
     ]
    }
   ],
   "source": [
    "P_delivery_flange = delivery(W_d) + P_atm\n",
    "P_suction_flange = suction(W_d) + P_atm\n",
    "\n",
    "dPa = P_delivery_flange-P_suction_flange\n",
    "\n",
    "print(\"The pressure at the delivery flange is \", str(P_delivery_flange), \"kPa abs\")\n",
    "print(\"The pressure at the suction flange is \", str(P_suction_flange), \"kPa abs\")\n",
    "print(\"The pressure supplied by the pump is \", str(dPa), \"kPa\")"
   ]
  },
  {
   "cell_type": "markdown",
   "metadata": {},
   "source": [
    "## Nominal Conditions"
   ]
  },
  {
   "cell_type": "code",
   "execution_count": 9,
   "metadata": {
    "collapsed": false
   },
   "outputs": [
    {
     "name": "stdout",
     "output_type": "stream",
     "text": [
      "The pressure at the delivery flange is  584.012735344 kPa abs\n",
      "The pressure at the suction flange is  155.600997163 kPa abs\n",
      "The pressure supplied by the pump is  428.411738181 kPa\n"
     ]
    }
   ],
   "source": [
    "P_delivery_flange = delivery(W_n) + P_atm\n",
    "P_suction_flange = suction(W_n) + P_atm\n",
    "\n",
    "dPa = P_delivery_flange-P_suction_flange\n",
    "\n",
    "print(\"The pressure at the delivery flange is \", str(P_delivery_flange), \"kPa abs\")\n",
    "print(\"The pressure at the suction flange is \", str(P_suction_flange), \"kPa abs\")\n",
    "print(\"The pressure supplied by the pump is \", str(dPa), \"kPa\")"
   ]
  },
  {
   "cell_type": "markdown",
   "metadata": {
    "collapsed": true
   },
   "source": [
    "## Maximum flow Conditions"
   ]
  },
  {
   "cell_type": "code",
   "execution_count": 10,
   "metadata": {
    "collapsed": false
   },
   "outputs": [
    {
     "name": "stdout",
     "output_type": "stream",
     "text": [
      "The pressure at the delivery flange is  662.057267653 kPa abs\n",
      "The pressure at the suction flange is  152.244611848 kPa abs\n",
      "The pressure supplied by the pump is  509.812655805 kPa\n"
     ]
    }
   ],
   "source": [
    "P_delivery_flange = delivery(W_m) + P_atm\n",
    "P_suction_flange = suction(W_m) + P_atm\n",
    "\n",
    "dPa = P_delivery_flange-P_suction_flange\n",
    "\n",
    "print(\"The pressure at the delivery flange is \", str(P_delivery_flange), \"kPa abs\")\n",
    "print(\"The pressure at the suction flange is \", str(P_suction_flange), \"kPa abs\")\n",
    "print(\"The pressure supplied by the pump is \", str(dPa), \"kPa\")"
   ]
  },
  {
   "cell_type": "code",
   "execution_count": 22,
   "metadata": {
    "collapsed": false
   },
   "outputs": [
    {
     "name": "stdout",
     "output_type": "stream",
     "text": [
      "11.180555555555555 9.722222222222223 10.648148148148149\n"
     ]
    }
   ],
   "source": [
    "print (W_d, W_n, W_m)"
   ]
  },
  {
   "cell_type": "code",
   "execution_count": null,
   "metadata": {
    "collapsed": true
   },
   "outputs": [],
   "source": []
  }
 ],
 "metadata": {
  "kernelspec": {
   "display_name": "Python 3",
   "language": "python",
   "name": "python3"
  },
  "language_info": {
   "codemirror_mode": {
    "name": "ipython",
    "version": 3
   },
   "file_extension": ".py",
   "mimetype": "text/x-python",
   "name": "python",
   "nbconvert_exporter": "python",
   "pygments_lexer": "ipython3",
   "version": "3.5.1"
  }
 },
 "nbformat": 4,
 "nbformat_minor": 0
}
