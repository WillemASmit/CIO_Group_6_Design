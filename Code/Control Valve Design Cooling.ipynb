{
 "cells": [
  {
   "cell_type": "markdown",
   "metadata": {},
   "source": [
    "# Imports & Constants"
   ]
  },
  {
   "cell_type": "code",
   "execution_count": 37,
   "metadata": {
    "collapsed": true
   },
   "outputs": [],
   "source": [
    "from __future__ import division\n",
    "import numpy as np\n",
    "import sympy\n",
    "sympy.init_printing()\n",
    "import matplotlib.pyplot as plt\n",
    "%matplotlib inline\n",
    "from ipywidgets import interact\n",
    "from scipy.integrate import odeint\n",
    "from scipy.optimize import fsolve"
   ]
  },
  {
   "cell_type": "code",
   "execution_count": 38,
   "metadata": {
    "collapsed": true
   },
   "outputs": [],
   "source": [
    "g = 9.807"
   ]
  },
  {
   "cell_type": "markdown",
   "metadata": {},
   "source": [
    "# Control valve characteristics"
   ]
  },
  {
   "cell_type": "code",
   "execution_count": 39,
   "metadata": {
    "collapsed": false
   },
   "outputs": [],
   "source": [
    "CV_size = 110.08\n",
    "# in mm\n",
    "C_cv = 124\n",
    "# single port Ccv values"
   ]
  },
  {
   "cell_type": "markdown",
   "metadata": {},
   "source": [
    "# Fluid Properties"
   ]
  },
  {
   "cell_type": "code",
   "execution_count": 40,
   "metadata": {
    "collapsed": true
   },
   "outputs": [],
   "source": [
    "ρ = 1000 #kg/m^3\n",
    "SG = ρ/1000\n",
    "μ = 8.9E-4 #Pa.s"
   ]
  },
  {
   "cell_type": "markdown",
   "metadata": {},
   "source": [
    "# Pipeline Properties"
   ]
  },
  {
   "cell_type": "code",
   "execution_count": 41,
   "metadata": {
    "collapsed": false
   },
   "outputs": [],
   "source": [
    "d = 110.08 #in mm\n",
    "d_inch = d * 0.03937 #in inches\n",
    "D = d/1000 #in m\n",
    "Length = 16 #in m\n",
    "epsilon = 0.015 #in mm\n",
    "dZ = 0 #change in elevation in m\n",
    "Pi = 0 #pressure at reference point at start of MEB in kPa\n",
    "Pf = 0 #pressure at reference point at end of MEB in kPa\n",
    "ui = 0 #linear flow rate at reference point at start of MEB in m/s\n",
    "uf = 0 #linear flow rate at reference point at end of MEB in m/s\n",
    "resistances = [12, 0, 0, 8, 8, 0, 1, 1]\n",
    "# (90 deg elbows, Large radius elbow, Butterfly valves, Gate&Ball Valves, soft tee, hard tee, \n",
    "# Pipe enterances, Pipe exits)\n",
    "W_nom = 34000/60/60 #kg/s"
   ]
  },
  {
   "cell_type": "code",
   "execution_count": 42,
   "metadata": {
    "collapsed": false
   },
   "outputs": [],
   "source": [
    "reducer_θ = 30\n",
    "enlarger_θ = 30\n",
    "if CV_size < d:\n",
    "    β = CV_size/d\n",
    "    CV_smaller = True\n",
    "elif CV_size > d:\n",
    "    β = d/CV_size\n",
    "    CV_smaller = False\n",
    "else:\n",
    "    CV_smaller = True \n",
    "    β = 1\n",
    "# if the valve is the same size as the line β = 1 and the K equations become 0\n",
    "\n",
    "if CV_smaller == True:\n",
    "    # if the control valve is smaller than the normal line the K values must be adjusted for the larger line since formula are\n",
    "    # given in terms of the flow in the smaller line\n",
    "    if reducer_θ < 45:\n",
    "        reducer_K = 0.81*np.sin(reducer_θ/2)*(1-β**2) * β**4\n",
    "    else:\n",
    "        reducer_K = 0.5 (1-β**2)*(np.sin(reducer_θ/2))**0.5 * β**4\n",
    "    if enlarger_θ < 45:\n",
    "        enlarger_K = 2.61*np.sin(enlarger_θ/2)*(1-β**2) * β**4\n",
    "    else:\n",
    "        enlarger_K = (1-β**2)**2 * β**4\n",
    "elif CV_smaller == False:\n",
    "    if reducer_θ < 45:\n",
    "        reducer_K = 0.81*np.sin(reducer_θ/2)*(1-β**2)\n",
    "    else:\n",
    "        reducer_K = 0.5 (1-β**2)*(np.sin(reducer_θ/2))**0.5\n",
    "    if enlarger_θ < 45:\n",
    "        enlarger_K = 2.61*np.sin(enlarger_θ/2)*(1-β**2)\n",
    "    else:\n",
    "        enlarger_K = (1-β**2)**2"
   ]
  },
  {
   "cell_type": "markdown",
   "metadata": {},
   "source": [
    "# Functions "
   ]
  },
  {
   "cell_type": "code",
   "execution_count": 43,
   "metadata": {
    "collapsed": false
   },
   "outputs": [],
   "source": [
    "def reynolds(u):\n",
    "    Re = (D * u * ρ) / μ\n",
    "    return Re\n",
    "\n",
    "def dPelevation(dh):\n",
    "    dPel = ρ * g * dh / 1000\n",
    "    return dPel\n",
    "\n",
    "def dPeq_f(W):\n",
    "    dPeqr = 33.44\n",
    "    Wr = 34000/60/60\n",
    "    dPeq = dPeqr * (W/Wr)**2\n",
    "    return dPeq\n",
    "\n",
    "def dP_friction(Lp, u, resistances):\n",
    "    # Resistances should be given as\n",
    "    # (90 deg elbows, large radius elbow, Butterfly valves, Gate&Ball Valves, soft tee, hard tee,\n",
    "    # Pipe enterances, Pipe exits)\n",
    "    # Valves are taken as fully open\n",
    "    # All connections are taken as flanged\n",
    "    K1 = [800, 800, 800, 300, 150, 800, 160, 0]\n",
    "    Kinf = [0.25, 0.2, 0.25, 0.1, 0.5, 0.8, 0.5, 1]\n",
    "    # Initial Guess for f_prime\n",
    "    sqrt_f_prime = 0.1414\n",
    "    Re = reynolds(u)\n",
    "    # Iterate to find f_prime using colebrook\n",
    "    difference = 1\n",
    "    while abs(difference) > 1E-5:\n",
    "        sqrt_f_prime = 1/(-2 * np.log10(epsilon/D/3.7 + 2.51/(Re*sqrt_f_prime)))\n",
    "        difference = 1/(sqrt_f_prime) - (-2 * np.log10(epsilon/D/3.7 + 2.51/(Re*sqrt_f_prime)))\n",
    "    f_prime = sqrt_f_prime**2\n",
    "    # Calculate the resistance coefficient for resistances\n",
    "    Ktot = 0\n",
    "    for i in range(0, 8, 1):\n",
    "        if i < 6:\n",
    "            K = K1[i]/Re + Kinf[i]*(1 + 1/d_inch)\n",
    "            Ktot += K\n",
    "        else:\n",
    "            K = K1[i]/Re + Kinf[i]\n",
    "            Ktot += K\n",
    "    # Add resistance for the enlarger & reducer\n",
    "    Ktot += enlarger_K\n",
    "    Ktot += reducer_K\n",
    "    # Add Resistance for the pipe\n",
    "    K_pipe = f_prime*Lp/D\n",
    "    Ktot += K_pipe\n",
    "    # Calculate friction loss\n",
    "    dP_friction = Ktot*(ρ*u**2/2000)\n",
    "    return dP_friction\n",
    "\n",
    "def system(W):\n",
    "    # Mass flow rate in kg/s\n",
    "    u = (W/ρ) / ((np.pi*D**2)/4)\n",
    "    dPel = dPelevation(dZ)\n",
    "    dPep = Pf - Pi\n",
    "    dPke = 1*ρ/2000*(uf**2 - ui**2)\n",
    "    dPf = dP_friction(Length, u, resistances) #Excludes control valve\n",
    "    dPeq = dPeq_f(W)\n",
    "    dP_system = dPel + dPep + dPke + dPf + dPeq\n",
    "    return dP_system\n",
    "\n",
    "def sub_total_variable(W):\n",
    "    # Mass flow rate in kg/s\n",
    "    u = (W/ρ) / ((np.pi*D**2)/4)\n",
    "    dPke = 1*ρ/2000*(uf**2 - ui**2)\n",
    "    dPf = dP_friction(Length, u, resistances) #Excludes control valve\n",
    "    dPeq = dPeq_f(W)\n",
    "    dP_stv = dPke + dPf + dPeq\n",
    "    return dP_stv"
   ]
  },
  {
   "cell_type": "markdown",
   "metadata": {},
   "source": [
    "# Plot System curve and Pump curve for selection of control valve trim"
   ]
  },
  {
   "cell_type": "code",
   "execution_count": 44,
   "metadata": {
    "collapsed": false
   },
   "outputs": [
    {
     "data": {
      "text/plain": [
       "<matplotlib.text.Text at 0x23ffd869198>"
      ]
     },
     "execution_count": 44,
     "metadata": {},
     "output_type": "execute_result"
    },
    {
     "data": {
      "image/png": "[encoded data removed]",
      "text/plain": [
       "<matplotlib.figure.Figure at 0x23ffd867cf8>"
      ]
     },
     "metadata": {},
     "output_type": "display_data"
    }
   ],
   "source": [
    "Wrange = np.arange(0.01, W_nom*1.5, 0.01)\n",
    "Prange = []\n",
    "for i in Wrange:\n",
    "    P = system(i)\n",
    "    Prange.append(P)\n",
    "    \n",
    "Qrange = Wrange/ρ\n",
    "plt.plot(Qrange, Prange, label ='System curve')\n",
    "Q_nom = W_nom/ρ\n",
    "plt.plot([Q_nom, Q_nom], [0, Prange[-1]], label='Opperation Flowrate')\n",
    "\n",
    "plt.legend(loc=0)\n",
    "plt.xlabel('Volumetric flowrate, m^3/s')\n",
    "plt.ylabel('System pressure, kPa')"
   ]
  },
  {
   "cell_type": "markdown",
   "metadata": {
    "collapsed": true
   },
   "source": [
    "# Control valve calculations"
   ]
  },
  {
   "cell_type": "code",
   "execution_count": 45,
   "metadata": {
    "collapsed": false
   },
   "outputs": [
    {
     "name": "stdout",
     "output_type": "stream",
     "text": [
      "Rule 2(d) failed\n",
      "14.6063289983 < 13.289246753700507 < 29.2126579967\n",
      "Rule 2(n) met\n",
      "22.0889663491 < 27.5325487708 < 66.2668990473\n",
      "Rule 1(n) met\n",
      "0.604127570257 > 0.1\n"
     ]
    }
   ],
   "source": [
    "W_n = W_nom #kg/s\n",
    "W_d = 1.15*W_n #kg/s\n",
    "W_m = 1.15/1.05 * W_n #kg/s\n",
    "\n",
    "V_gal_n = W_n/ρ*264.172*60 #gal/min\n",
    "V_gal_d = W_d/ρ*264.172*60 #gal/min\n",
    "V_gal_m = W_m/ρ*264.172*60 #gal/min\n",
    "\n",
    "dP_cvd = (V_gal_d/(C_cv*1))**2 * SG * 6.89476 #kPA\n",
    "dP_stvn = sub_total_variable(W_n)\n",
    "dP_stvd = dP_stvn * (W_d/W_n)**2\n",
    "\n",
    "if dP_cvd >= 0.25*dP_stvd and dP_cvd <= 0.5*dP_stvd:\n",
    "    print (\"Rule 2(d) met\")\n",
    "else:\n",
    "    print (\"Rule 2(d) failed\")\n",
    "print (0.25*dP_stvd, '<', dP_cvd, '<', 0.5*dP_stvd)\n",
    "\n",
    "dP_ad = system(W_d) + dP_cvd\n",
    "dP_an = dP_ad\n",
    "\n",
    "dP_cvn = dP_an - system(W_n)\n",
    "\n",
    "if dP_cvn >= 0.5*dP_stvn and dP_cvn <= 1.5*dP_stvn:\n",
    "    print(\"Rule 2(n) met\")\n",
    "else:\n",
    "    print(\"Rule 2(n) failed\")\n",
    "print (0.5*dP_stvn, '<', dP_cvn, '<', 1.5*dP_stvn)\n",
    "    \n",
    "fx_n = V_gal_n/(C_cv*(dP_cvn*0.145038/SG)**0.5)\n",
    "\n",
    "if fx_n >= 0.1:\n",
    "    print(\"Rule 1(n) met\")\n",
    "else:\n",
    "    print(\"Rule 1(n) failed\")\n",
    "print (fx_n, '>', 0.1)\n"
   ]
  },
  {
   "cell_type": "code",
   "execution_count": 18,
   "metadata": {
    "collapsed": true
   },
   "outputs": [],
   "source": []
  }
 ],
 "metadata": {
  "kernelspec": {
   "display_name": "Python 3",
   "language": "python",
   "name": "python3"
  },
  "language_info": {
   "codemirror_mode": {
    "name": "ipython",
    "version": 3
   },
   "file_extension": ".py",
   "mimetype": "text/x-python",
   "name": "python",
   "nbconvert_exporter": "python",
   "pygments_lexer": "ipython3",
   "version": "3.5.1"
  }
 },
 "nbformat": 4,
 "nbformat_minor": 0
}
