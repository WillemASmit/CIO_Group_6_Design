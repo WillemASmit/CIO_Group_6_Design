{
 "cells": [
  {
   "cell_type": "markdown",
   "metadata": {},
   "source": [
    "# Imports & Constants"
   ]
  },
  {
   "cell_type": "code",
   "execution_count": 19,
   "metadata": {
    "collapsed": true
   },
   "outputs": [],
   "source": [
    "from __future__ import division\n",
    "import numpy as np\n",
    "import sympy\n",
    "sympy.init_printing()\n",
    "import matplotlib.pyplot as plt\n",
    "%matplotlib inline\n",
    "from ipywidgets import interact\n",
    "from scipy.integrate import odeint\n",
    "from scipy.optimize import fsolve"
   ]
  },
  {
   "cell_type": "code",
   "execution_count": 20,
   "metadata": {
    "collapsed": true
   },
   "outputs": [],
   "source": [
    "g = 9.807\n",
    "P_atm = 82 #kPa"
   ]
  },
  {
   "cell_type": "markdown",
   "metadata": {},
   "source": [
    "# Fluid properties"
   ]
  },
  {
   "cell_type": "code",
   "execution_count": 21,
   "metadata": {
    "collapsed": false
   },
   "outputs": [],
   "source": [
    "ρ = 1000 #kg/m^3\n",
    "SG = ρ/1000\n",
    "μ = 8.9E-4 #Pa.s\n",
    "P_sat = 0.66435 #kPa"
   ]
  },
  {
   "cell_type": "markdown",
   "metadata": {},
   "source": [
    "# Pipeline properties"
   ]
  },
  {
   "cell_type": "code",
   "execution_count": 22,
   "metadata": {
    "collapsed": true
   },
   "outputs": [],
   "source": [
    "d = 110.08 #in mm\n",
    "d_inch = d * 0.03937 #in inches\n",
    "D = d/1000 #in m\n",
    "epsilon = 0.015 #in mm\n",
    "W_n = 34000/60/60 #kg/s\n",
    "W_d = 1.15*W_n #kg/s"
   ]
  },
  {
   "cell_type": "markdown",
   "metadata": {},
   "source": [
    "# Suction line"
   ]
  },
  {
   "cell_type": "code",
   "execution_count": 23,
   "metadata": {
    "collapsed": false
   },
   "outputs": [],
   "source": [
    "length_suction = 2\n",
    "dZ_suction = -(1 + 0.8*5)\n",
    "resist_suction = [4, 0, 0, 2, 1, 0, 1, 0]\n",
    "# (90 deg elbows, large radius elbow, Butterfly valves, Gate Valves, soft tee, hard tee, \n",
    "# Pipe enterances, Pipe exits)"
   ]
  },
  {
   "cell_type": "markdown",
   "metadata": {},
   "source": [
    "# Delivery line"
   ]
  },
  {
   "cell_type": "code",
   "execution_count": 24,
   "metadata": {
    "collapsed": false
   },
   "outputs": [],
   "source": [
    "length_delivery = 14\n",
    "dZ_delivery = 6\n",
    "resist_delivery = [8, 0, 0, 6, 7, 0, 0, 1]\n",
    "# (90 deg elbows, large radius elbow, Butterfly valves, Gate&Ball Valves, soft tee, hard tee, \n",
    "# Pipe enterances, Pipe exits)"
   ]
  },
  {
   "cell_type": "markdown",
   "metadata": {},
   "source": [
    "# Control valve characteristics"
   ]
  },
  {
   "cell_type": "code",
   "execution_count": 25,
   "metadata": {
    "collapsed": false
   },
   "outputs": [],
   "source": [
    "CV_size = 110.08\n",
    "# in mm\n",
    "C_cv = 124\n",
    "# single port Ccv values\n",
    "fx_d = 1 \n",
    "fx_n = 0.6"
   ]
  },
  {
   "cell_type": "code",
   "execution_count": 26,
   "metadata": {
    "collapsed": false
   },
   "outputs": [],
   "source": [
    "reducer_θ = 30\n",
    "enlarger_θ = 30\n",
    "if CV_size < d:\n",
    "    β = CV_size/d\n",
    "    CV_smaller = True\n",
    "elif CV_size > d:\n",
    "    β = d/CV_size\n",
    "    CV_smaller = False\n",
    "else:\n",
    "    CV_smaller = True \n",
    "# if the valve is the same size as the line β = 1 and the K equations become 0\n",
    "\n",
    "if CV_smaller == True:\n",
    "    # if the control valve is smaller than the normal line the K values must be adjusted for the larger line since formula are\n",
    "    # given in terms of the flow in the smaller line\n",
    "    if reducer_θ < 45:\n",
    "        reducer_K = 0.81*np.sin(reducer_θ/2)*(1-β**2) * β**4\n",
    "    else:\n",
    "        reducer_K = 0.5 (1-β**2)*(np.sin(reducer_θ/2))**0.5 * β**4\n",
    "    if enlarger_θ < 45:\n",
    "        enlarger_K = 2.61*np.sin(enlarger_θ/2)*(1-β**2) * β**4\n",
    "    else:\n",
    "        enlarger_K = (1-β**2)**2 * β**4\n",
    "elif CV_smaller == False:\n",
    "    if reducer_θ < 45:\n",
    "        reducer_K = 0.81*np.sin(reducer_θ/2)*(1-β**2)\n",
    "    else:\n",
    "        reducer_K = 0.5 (1-β**2)*(np.sin(reducer_θ/2))**0.5\n",
    "    if enlarger_θ < 45:\n",
    "        enlarger_K = 2.61*np.sin(enlarger_θ/2)*(1-β**2)\n",
    "    else:\n",
    "        enlarger_K = (1-β**2)**2"
   ]
  },
  {
   "cell_type": "markdown",
   "metadata": {},
   "source": [
    "# Functions"
   ]
  },
  {
   "cell_type": "code",
   "execution_count": 27,
   "metadata": {
    "collapsed": false
   },
   "outputs": [],
   "source": [
    "def reynolds(u):\n",
    "    Re = (D * u * ρ) / μ\n",
    "    return Re\n",
    "\n",
    "def dPelevation(dh):\n",
    "    dPel = ρ * g * dh / 1000\n",
    "    return dPel\n",
    "\n",
    "def dPeq_f(W):\n",
    "    dPeqr = 33.44\n",
    "    Wr = 34000/60/60\n",
    "    dPeq = dPeqr * (W/Wr)**2\n",
    "    return dPeq\n",
    "\n",
    "def dPcv_f(W, fx):\n",
    "    V = W/ρ\n",
    "    V_gal = V*264.172*60\n",
    "    dPcv = (V_gal/(C_cv*fx))**2 * SG * 6.89476\n",
    "    return dPcv\n",
    "\n",
    "def dP_friction(Lp, u, resistances):\n",
    "    # Resistances should be given as\n",
    "    # (90 deg elbows, large radius elbow, Butterfly valves, Gate Valves, Pipe enterances, Pipe exits)\n",
    "    # Valves are taken as fully open\n",
    "    # All connections are taken as flanged\n",
    "    K1 = [800, 800, 800, 300, 160, 0]\n",
    "    Kinf = [0.25, 0.2, 0.25, 0.1, 0.5, 1]\n",
    "    # Initial Guess for f_prime\n",
    "    sqrt_f_prime = 0.1414\n",
    "    Re = reynolds(u)\n",
    "    # Iterate to find f_prime using colebrook\n",
    "    difference = 1\n",
    "    while abs(difference) > 1E-5:\n",
    "        sqrt_f_prime = 1/(-2 * np.log10(epsilon/D/3.7 + 2.51/(Re*sqrt_f_prime)))\n",
    "        difference = 1/(sqrt_f_prime) - (-2 * np.log10(epsilon/D/3.7 + 2.51/(Re*sqrt_f_prime)))\n",
    "    f_prime = sqrt_f_prime**2\n",
    "    # Calculate the resistance coefficient for resistances\n",
    "    Ktot = 0\n",
    "    for i in range(0, 6, 1):\n",
    "        if i < 4:\n",
    "            K = K1[i]/Re + Kinf[i]*(1 + 1/d_inch)\n",
    "            Ktot += K\n",
    "        else:\n",
    "            K = K1[i]/Re + Kinf[i]\n",
    "            Ktot += K\n",
    "    # Add resistance for the enlarger & reducer\n",
    "    Ktot += enlarger_K\n",
    "    Ktot += reducer_K\n",
    "    # Add Resistance for the pipe\n",
    "    K_pipe = f_prime*Lp/D\n",
    "    Ktot += K_pipe\n",
    "    # Calculate friction loss\n",
    "    dP_friction = Ktot*(ρ*u**2/2000)\n",
    "    return dP_friction\n",
    "\n",
    "def suction(W):\n",
    "    # Mass flow rate in kg/s\n",
    "    u = (W/ρ) / ((np.pi*D**2)/4)\n",
    "    dPel = dPelevation(dZ_suction)\n",
    "    dPke = 1*ρ/2000*(u**2)\n",
    "    dPf = dP_friction(length_suction, u, resist_suction) #Excludes control valve\n",
    "    P_suction_flange = -(dPel + dPke + dPf)\n",
    "    return P_suction_flange\n",
    "\n",
    "def delivery(W, fx_cv):\n",
    "    # Mass flow rate in kg/s\n",
    "    u = (W/ρ) / ((np.pi*D**2)/4)\n",
    "    dPel = dPelevation(dZ_delivery)\n",
    "    dPke = 1*ρ/2000*(-u**2)\n",
    "    dPf = dP_friction(length_delivery, u, resist_delivery) #Excludes control valve\n",
    "    dPcv = dPcv_f(W, fx_cv)\n",
    "    print (dPcv)\n",
    "    dPeq = dPeq_f(W)\n",
    "    P_delivery_flange = dPel + dPke + dPf + dPeq + dPcv\n",
    "    return P_delivery_flange"
   ]
  },
  {
   "cell_type": "markdown",
   "metadata": {
    "collapsed": true
   },
   "source": [
    "# Calculations\n",
    "## Design conditions"
   ]
  },
  {
   "cell_type": "code",
   "execution_count": 28,
   "metadata": {
    "collapsed": false
   },
   "outputs": [
    {
     "name": "stdout",
     "output_type": "stream",
     "text": [
      "13.289246753700507\n",
      "The pressure at the delivery flange is  209.467038072 kPa abs\n",
      "The pressure at the suction flange is  127.260824794 kPa abs\n",
      "The pressure supplied by the pump is  82.2062132778 kPa\n",
      "NPSHa is  12.9087870698 m fluid\n"
     ]
    }
   ],
   "source": [
    "P_delivery_flange = delivery(W_d, fx_d) + P_atm\n",
    "P_suction_flange = suction(W_d) + P_atm\n",
    "\n",
    "dPa = P_delivery_flange-P_suction_flange\n",
    "\n",
    "NPSH_a = (P_suction_flange - P_sat)/(g*SG)\n",
    "print(\"The pressure at the delivery flange is \", str(P_delivery_flange), \"kPa abs\")\n",
    "print(\"The pressure at the suction flange is \", str(P_suction_flange), \"kPa abs\")\n",
    "print(\"The pressure supplied by the pump is \", str(dPa), \"kPa\")\n",
    "print(\"NPSHa is \", str(NPSH_a), \"m fluid\")"
   ]
  },
  {
   "cell_type": "markdown",
   "metadata": {},
   "source": [
    "## Nominal Conditions"
   ]
  },
  {
   "cell_type": "code",
   "execution_count": 29,
   "metadata": {
    "collapsed": false
   },
   "outputs": [
    {
     "name": "stdout",
     "output_type": "stream",
     "text": [
      "27.912721599875045\n",
      "The pressure at the delivery flange is  210.598982165 kPa abs\n",
      "The pressure at the suction flange is  128.179548252 kPa abs\n",
      "The pressure supplied by the pump is  82.4194339139 kPa\n",
      "NPSHa is  13.0024674469 m fluid\n"
     ]
    }
   ],
   "source": [
    "P_delivery_flange = delivery(W_n, fx_n) + P_atm\n",
    "P_suction_flange = suction(W_n) + P_atm\n",
    "\n",
    "dPa = P_delivery_flange-P_suction_flange\n",
    "\n",
    "NPSH_a = (P_suction_flange - P_sat)/(g*SG)\n",
    "print(\"The pressure at the delivery flange is \", str(P_delivery_flange), \"kPa abs\")\n",
    "print(\"The pressure at the suction flange is \", str(P_suction_flange), \"kPa abs\")\n",
    "print(\"The pressure supplied by the pump is \", str(dPa), \"kPa\")\n",
    "print(\"NPSHa is \", str(NPSH_a), \"m fluid\")"
   ]
  },
  {
   "cell_type": "code",
   "execution_count": 31,
   "metadata": {
    "collapsed": false
   },
   "outputs": [
    {
     "data": {
      "image/png": "[encoded data removed]",
      "text/latex": [
       "$$9.444444444444445$$"
      ],
      "text/plain": [
       "9.444444444444445"
      ]
     },
     "execution_count": 31,
     "metadata": {},
     "output_type": "execute_result"
    }
   ],
   "source": [
    "W_n"
   ]
  },
  {
   "cell_type": "code",
   "execution_count": null,
   "metadata": {
    "collapsed": true
   },
   "outputs": [],
   "source": []
  }
 ],
 "metadata": {
  "kernelspec": {
   "display_name": "Python 3",
   "language": "python",
   "name": "python3"
  },
  "language_info": {
   "codemirror_mode": {
    "name": "ipython",
    "version": 3
   },
   "file_extension": ".py",
   "mimetype": "text/x-python",
   "name": "python",
   "nbconvert_exporter": "python",
   "pygments_lexer": "ipython3",
   "version": "3.5.1"
  }
 },
 "nbformat": 4,
 "nbformat_minor": 0
}
